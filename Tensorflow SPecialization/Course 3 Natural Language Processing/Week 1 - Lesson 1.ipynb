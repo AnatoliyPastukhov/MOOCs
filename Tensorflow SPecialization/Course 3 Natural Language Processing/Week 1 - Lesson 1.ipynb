{
 "cells": [
  {
   "cell_type": "code",
   "execution_count": 1,
   "metadata": {},
   "outputs": [],
   "source": [
    "from tensorflow.keras.preprocessing.text import Tokenizer"
   ]
  },
  {
   "cell_type": "code",
   "execution_count": 3,
   "metadata": {},
   "outputs": [
    {
     "name": "stdout",
     "output_type": "stream",
     "text": [
      "{'love': 1, 'my': 2, 'i': 3, 'cat': 4, 'dog': 5, 'you': 6}\n"
     ]
    }
   ],
   "source": [
    "sentences = ['I love my dog', 'I love my cat', 'you love my cat!',]\n",
    "\n",
    "tokenizer = Tokenizer(num_words = 100) # num_words = take top 100 most common word from text\n",
    "tokenizer.fit_on_texts(sentences)\n",
    "word_index = tokenizer.word_index\n",
    "print(word_index)"
   ]
  },
  {
   "cell_type": "code",
   "execution_count": 6,
   "metadata": {},
   "outputs": [
    {
     "name": "stdout",
     "output_type": "stream",
     "text": [
      "{'my': 1, 'love': 2, 'i': 3, 'dog': 4, 'cat': 5, 'you': 6, 'do': 7, 'think': 8, 'is': 9, 'amazing': 10}\n",
      "[[3, 2, 1, 4], [3, 2, 1, 5], [6, 2, 1, 5], [7, 6, 8, 1, 4, 9, 10]]\n"
     ]
    }
   ],
   "source": [
    "sentences = ['I love my dog', 'I love my cat', 'you love my cat!',\n",
    "            'Do you think my dog is amazing?']\n",
    "\n",
    "tokenizer = Tokenizer(num_words = 100) # num_words = take top 100 most common word from text\n",
    "tokenizer.fit_on_texts(sentences)\n",
    "word_index = tokenizer.word_index\n",
    "\n",
    "sequences = tokenizer.texts_to_sequences(sentences)\n",
    "print(word_index)\n",
    "print(sequences)"
   ]
  },
  {
   "cell_type": "code",
   "execution_count": 7,
   "metadata": {},
   "outputs": [
    {
     "name": "stdout",
     "output_type": "stream",
     "text": [
      "[[3, 2, 1, 4], [1, 4, 1]]\n"
     ]
    }
   ],
   "source": [
    "test_data = ['i really love my dog', 'my dog loves my manatee']\n",
    "test_seq = tokenizer.texts_to_sequences(test_data)\n",
    "print(test_seq)"
   ]
  },
  {
   "cell_type": "markdown",
   "metadata": {},
   "source": [
    "words, which were not fitted are not recognized"
   ]
  },
  {
   "cell_type": "code",
   "execution_count": 9,
   "metadata": {},
   "outputs": [
    {
     "name": "stdout",
     "output_type": "stream",
     "text": [
      "{'<OOV>': 1, 'my': 2, 'love': 3, 'i': 4, 'dog': 5, 'cat': 6, 'you': 7, 'do': 8, 'think': 9, 'is': 10, 'amazing': 11}\n",
      "[[4, 1, 3, 2, 5], [2, 5, 1, 2, 1]]\n"
     ]
    }
   ],
   "source": [
    "tokenizer = Tokenizer(num_words = 100, oov_token = '<OOV>')\n",
    "tokenizer.fit_on_texts(sentences)\n",
    "word_index= tokenizer.word_index\n",
    "test_seq = tokenizer.texts_to_sequences(test_data)\n",
    "print(word_index)\n",
    "print(test_seq)"
   ]
  },
  {
   "cell_type": "markdown",
   "metadata": {},
   "source": [
    "## Padding\n",
    "adding uniformity of size for all sentences\n"
   ]
  },
  {
   "cell_type": "code",
   "execution_count": 10,
   "metadata": {},
   "outputs": [],
   "source": [
    "from tensorflow.keras.preprocessing.sequence import pad_sequences"
   ]
  },
  {
   "cell_type": "code",
   "execution_count": 15,
   "metadata": {},
   "outputs": [
    {
     "name": "stdout",
     "output_type": "stream",
     "text": [
      "{'<OOV>': 1, 'my': 2, 'love': 3, 'i': 4, 'dog': 5, 'cat': 6, 'you': 7, 'do': 8, 'think': 9, 'is': 10, 'amazing': 11}\n",
      "[[4, 3, 2, 5], [4, 3, 2, 6], [7, 3, 2, 6], [8, 7, 9, 2, 5, 10, 11]]\n",
      "[[ 4  3  2  5  0  0  0]\n",
      " [ 4  3  2  6  0  0  0]\n",
      " [ 7  3  2  6  0  0  0]\n",
      " [ 8  7  9  2  5 10 11]]\n"
     ]
    }
   ],
   "source": [
    "sentences = ['I love my dog', 'I love my cat', 'you love my cat!',\n",
    "            'Do you think my dog is amazing?']\n",
    "\n",
    "tokenizer = Tokenizer(num_words = 100, oov_token = '<OOV>') # num_words = take top 100 most common word from text\n",
    "tokenizer.fit_on_texts(sentences)\n",
    "word_index = tokenizer.word_index\n",
    "\n",
    "sequences = tokenizer.texts_to_sequences(sentences)\n",
    "\n",
    "padded = pad_sequences(sequences, padding = 'post')\n",
    "#parameters: maxlen = cut sentences, padding at the end of the sentence\n",
    "\n",
    "print(word_index)\n",
    "print(sequences)\n",
    "print(padded)"
   ]
  },
  {
   "cell_type": "markdown",
   "metadata": {},
   "source": [
    "## Repetition code from Notebook presentation"
   ]
  },
  {
   "cell_type": "code",
   "execution_count": null,
   "metadata": {},
   "outputs": [],
   "source": [
    "#import tensorflow as tf\n",
    "from tensorflow import keras\n",
    "#import ... Tokenizer\n",
    "#import ..... pad_sequences"
   ]
  },
  {
   "cell_type": "code",
   "execution_count": 41,
   "metadata": {},
   "outputs": [
    {
     "name": "stdout",
     "output_type": "stream",
     "text": [
      "\n",
      "Word Index =  {'<OOV>': 1, 'my': 2, 'love': 3, 'i': 4, 'dog': 5, 'cat': 6, 'you': 7, 'do': 8, 'think': 9, 'is': 10, 'amazing': 11}\n",
      "\n",
      "Sequences =  [[4, 3, 2, 5], [4, 3, 2, 6], [7, 3, 2, 6], [8, 7, 9, 2, 5, 10, 11]]\n",
      "\n",
      "Padded Sequences =  [[ 0  0  0  4  3  2  5]\n",
      " [ 0  0  0  4  3  2  6]\n",
      " [ 0  0  0  7  3  2  6]\n",
      " [ 8  7  9  2  5 10 11]]\n"
     ]
    }
   ],
   "source": [
    "sentences = ['I love my dog', 'I love my cat', 'you love my cat!',\n",
    "            'Do you think my dog is amazing?']\n",
    "\n",
    "tokenizer = Tokenizer(num_words = 100, oov_token = '<OOV>')\n",
    "tokenizer.fit_on_texts(sentences)\n",
    "word_index = tokenizer.word_index\n",
    "\n",
    "sequences = tokenizer.texts_to_sequences(sentences)\n",
    "padded = pad_sequences(sequences, maxlen = 7)\n",
    "print('\\nWord Index = ', word_index)\n",
    "print('\\nSequences = ', sequences)\n",
    "print('\\nPadded Sequences = ', padded)\n",
    "\n"
   ]
  },
  {
   "cell_type": "code",
   "execution_count": 43,
   "metadata": {},
   "outputs": [
    {
     "name": "stdout",
     "output_type": "stream",
     "text": [
      "[[4, 1, 3, 2, 5], [2, 5, 1, 2, 1]]\n",
      "[[0 0 0 4 1 3 2 5]\n",
      " [0 0 0 2 5 1 2 1]]\n"
     ]
    }
   ],
   "source": [
    "test_data = ['i really love my dog', 'my dog loves my manatee']\n",
    "\n",
    "test_seq = tokenizer.texts_to_sequences(test_data)\n",
    "\n",
    "padded = pad_sequences(test_seq, maxlen = 8)\n",
    "print(test_seq)\n",
    "print(padded)\n"
   ]
  },
  {
   "cell_type": "markdown",
   "metadata": {},
   "source": [
    "## Sarcasm database processing\n"
   ]
  },
  {
   "cell_type": "code",
   "execution_count": 59,
   "metadata": {},
   "outputs": [
    {
     "name": "stdout",
     "output_type": "stream",
     "text": [
      "29657\n",
      "former versace store clerk sues over secret 'black code' for minority shoppers\n",
      "[  308 15115   679  3337  2298    48   382  2576 15116     6  2577  8434\n",
      "     0     0     0     0     0     0     0     0     0     0     0     0\n",
      "     0     0     0     0     0     0     0     0     0     0     0     0\n",
      "     0     0     0     0]\n",
      "(26709, 40)\n"
     ]
    }
   ],
   "source": [
    "import json\n",
    "\n",
    "\n",
    "with open('sarcasm_data/sarcasm.json', 'r') as f:\n",
    "    datastore = json.load(f)\n",
    "    \n",
    "sentences = []\n",
    "labels =[]\n",
    "urls = []\n",
    "for item in datastore:\n",
    "    sentences.append(item['headline'])\n",
    "    labels.append(item['is_sarcastic'])\n",
    "    urls.append(item['article_link'])\n",
    "\n",
    "tokenizer = Tokenizer(oov_token = '<OOV>')\n",
    "tokenizer.fit_on_texts(sentences)\n",
    "word_index = tokenizer.word_index\n",
    "print(len(word_index))\n",
    "\n",
    "sequences = tokenizer.texts_to_sequences(sentences)\n",
    "padded = pad_sequences(sequences, padding = 'post' )\n",
    "print(sentences[0])\n",
    "print(padded[0])\n",
    "print(padded.shape)"
   ]
  }
 ],
 "metadata": {
  "kernelspec": {
   "display_name": "Python 3",
   "language": "python",
   "name": "python3"
  },
  "language_info": {
   "codemirror_mode": {
    "name": "ipython",
    "version": 3
   },
   "file_extension": ".py",
   "mimetype": "text/x-python",
   "name": "python",
   "nbconvert_exporter": "python",
   "pygments_lexer": "ipython3",
   "version": "3.7.7"
  }
 },
 "nbformat": 4,
 "nbformat_minor": 4
}
